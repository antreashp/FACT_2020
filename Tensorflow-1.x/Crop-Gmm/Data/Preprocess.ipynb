{
 "cells": [
  {
   "cell_type": "markdown",
   "id": "chronic-hepatitis",
   "metadata": {},
   "source": [
    "# Preprocess original crop data\n",
    "- Datasource https://archive.ics.uci.edu/ml/datasets/Crop+mapping+using+fused+optical-radar+data+set\n",
    "- Drop label and headers\n",
    "- Normalize values"
   ]
  },
  {
   "cell_type": "code",
   "execution_count": null,
   "id": "presidential-calgary",
   "metadata": {},
   "outputs": [],
   "source": [
    "import numpy as np\n",
    "import pandas as pd\n",
    "\n",
    "X = pd.read_csv(\"crop.csv\", sep=\",\")\n",
    "X = X.drop(\"label\", axis=1)\n",
    "X = X.drop([0], axis=0)\n",
    "np.savetxt(\"crop_original.tsv\", X, delimiter=\"\\t\")"
   ]
  },
  {
   "cell_type": "code",
   "execution_count": 18,
   "id": "bottom-bulgaria",
   "metadata": {},
   "outputs": [],
   "source": [
    "X = pd.read_csv(\"crop_original.tsv\", sep=\"\\t\").values\n",
    "\n",
    "normalizer = np.max(np.abs(X))\n",
    "X /= normalizer\n",
    "\n",
    "np.savetxt(\"crop_original_scaled.tsv\", X, delimiter=\"\\t\")"
   ]
  },
  {
   "cell_type": "code",
   "execution_count": 19,
   "id": "valid-jefferson",
   "metadata": {},
   "outputs": [
    {
     "data": {
      "text/plain": [
       "(325831, 174)"
      ]
     },
     "execution_count": 19,
     "metadata": {},
     "output_type": "execute_result"
    }
   ],
   "source": [
    "X = pd.read_csv(\"crop_original_scaled.tsv\", sep=\"\\t\")\n",
    "X.shape"
   ]
  },
  {
   "cell_type": "markdown",
   "id": "casual-offset",
   "metadata": {},
   "source": [
    "# Sample crop data\n",
    "- Balance the dataset by classes\n",
    "- Randomly sample instances for different classes (Smaller dataset)"
   ]
  },
  {
   "cell_type": "code",
   "execution_count": 36,
   "id": "orange-graduate",
   "metadata": {},
   "outputs": [],
   "source": [
    "import numpy as np\n",
    "import pandas as pd\n",
    "\n",
    "X = pd.read_csv(\"crop.csv\", sep=\",\")\n",
    "X.groupby('label').count()\n",
    "X = X.groupby('label').apply(lambda x: x.sample(n=1000)).reset_index(drop = True)\n",
    "\n",
    "# Save sampled labels to crop_sampled_y.tsv\n",
    "np.savetxt(\"crop_sampled_y.tsv\", X['label'], delimiter=\"\\t\")\n",
    "\n",
    "#Drop label column from the feature data\n",
    "X = X.drop(\"label\", axis=1)\n",
    "\n",
    "normalizer = np.max(np.abs(X))\n",
    "X /= normalizer\n",
    "\n",
    "np.savetxt(\"crop_sampled_scaled.tsv\", X, delimiter=\"\\t\")\n",
    "\n"
   ]
  },
  {
   "cell_type": "code",
   "execution_count": null,
   "id": "confidential-inventory",
   "metadata": {},
   "outputs": [],
   "source": []
  }
 ],
 "metadata": {
  "kernelspec": {
   "display_name": "Python 3",
   "language": "python",
   "name": "python3"
  },
  "language_info": {
   "codemirror_mode": {
    "name": "ipython",
    "version": 3
   },
   "file_extension": ".py",
   "mimetype": "text/x-python",
   "name": "python",
   "nbconvert_exporter": "python",
   "pygments_lexer": "ipython3",
   "version": "3.7.9"
  }
 },
 "nbformat": 4,
 "nbformat_minor": 5
}
