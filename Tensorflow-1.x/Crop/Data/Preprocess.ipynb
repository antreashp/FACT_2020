{
 "cells": [
  {
   "cell_type": "markdown",
   "id": "loose-listing",
   "metadata": {},
   "source": [
    "# Preprocess original crop data\n",
    "- Datasource https://archive.ics.uci.edu/ml/datasets/Crop+mapping+using+fused+optical-radar+data+set\n",
    "- Drop label and headers\n",
    "- Normalize values"
   ]
  },
  {
   "cell_type": "code",
   "execution_count": 7,
   "id": "characteristic-judge",
   "metadata": {},
   "outputs": [
    {
     "name": "stdout",
     "output_type": "stream",
     "text": [
      "(325834, 175)\n"
     ]
    },
    {
     "data": {
      "text/plain": [
       "label\n",
       "1    39162\n",
       "2     3598\n",
       "3    75673\n",
       "4    74067\n",
       "5    47117\n",
       "6    85074\n",
       "7     1143\n",
       "Name: f1, dtype: int64"
      ]
     },
     "execution_count": 7,
     "metadata": {},
     "output_type": "execute_result"
    }
   ],
   "source": [
    "import numpy as np\n",
    "import pandas as pd\n",
    "\n",
    "X = pd.read_csv(\"crop.csv\", sep=\",\")\n",
    "# X = X.drop(\"label\", axis=1)\n",
    "# X = X.drop([0], axis=0)\n",
    "# np.savetxt(\"crop_original.tsv\", X, delimiter=\"\\t\")\n",
    "print(X.shape)\n",
    "X.groupby(['label']).count()['f1']"
   ]
  },
  {
   "cell_type": "code",
   "execution_count": 2,
   "id": "premier-springfield",
   "metadata": {},
   "outputs": [
    {
     "name": "stdout",
     "output_type": "stream",
     "text": [
      "(325832, 174)\n"
     ]
    }
   ],
   "source": [
    "X = pd.read_csv(\"crop_original.tsv\", sep=\"\\t\").values\n",
    "p[rin]\n",
    "\n",
    "\n",
    "# normalizer = np.max(np.abs(X))\n",
    "# X /= normalizer\n",
    "\n",
    "# np.savetxt(\"crop_original_scaled.tsv\", X, delimiter=\"\\t\")"
   ]
  },
  {
   "cell_type": "code",
   "execution_count": null,
   "id": "developing-lighter",
   "metadata": {},
   "outputs": [],
   "source": [
    "X.groupby()"
   ]
  },
  {
   "cell_type": "code",
   "execution_count": 19,
   "id": "persistent-showcase",
   "metadata": {},
   "outputs": [
    {
     "data": {
      "text/plain": [
       "(325831, 174)"
      ]
     },
     "execution_count": 19,
     "metadata": {},
     "output_type": "execute_result"
    }
   ],
   "source": [
    "X = pd.read_csv(\"crop_original_scaled.tsv\", sep=\"\\t\")\n",
    "X.shape"
   ]
  },
  {
   "cell_type": "markdown",
   "id": "authentic-office",
   "metadata": {},
   "source": [
    "# Sample crop data\n",
    "- Balance the dataset by classes\n",
    "- Randomly sample instances for different classes (Smaller dataset)"
   ]
  },
  {
   "cell_type": "code",
   "execution_count": 36,
   "id": "soviet-booth",
   "metadata": {},
   "outputs": [],
   "source": [
    "import numpy as np\n",
    "import pandas as pd\n",
    "\n",
    "X = pd.read_csv(\"crop.csv\", sep=\",\")\n",
    "X.groupby('label').count()\n",
    "X = X.groupby('label').apply(lambda x: x.sample(n=1000)).reset_index(drop = True)\n",
    "\n",
    "# Save sampled labels to crop_sampled_y.tsv\n",
    "np.savetxt(\"crop_sampled_y.tsv\", X['label'], delimiter=\"\\t\")\n",
    "\n",
    "#Drop label column from the feature data\n",
    "X = X.drop(\"label\", axis=1)\n",
    "\n",
    "normalizer = np.max(np.abs(X))\n",
    "X /= normalizer\n",
    "\n",
    "np.savetxt(\"crop_sampled_scaled.tsv\", X, delimiter=\"\\t\")\n",
    "\n"
   ]
  },
  {
   "cell_type": "code",
   "execution_count": null,
   "id": "veterinary-native",
   "metadata": {},
   "outputs": [],
   "source": []
  }
 ],
 "metadata": {
  "kernelspec": {
   "display_name": "Python 3",
   "language": "python",
   "name": "python3"
  },
  "language_info": {
   "codemirror_mode": {
    "name": "ipython",
    "version": 3
   },
   "file_extension": ".py",
   "mimetype": "text/x-python",
   "name": "python",
   "nbconvert_exporter": "python",
   "pygments_lexer": "ipython3",
   "version": "3.7.9"
  }
 },
 "nbformat": 4,
 "nbformat_minor": 5
}
