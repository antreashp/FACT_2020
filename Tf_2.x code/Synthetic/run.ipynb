{
 "cells": [
  {
   "cell_type": "code",
   "execution_count": 1,
   "metadata": {},
   "outputs": [],
   "source": [
    "input_dim = 4\n",
    "num_clusters = 4\n",
    "\n",
    "ntrials = 10\n",
    "lg = 1.5 #lambda_global\n",
    "\n",
    "import numpy as np\n",
    "import os\n",
    "from sklearn.cluster import KMeans\n",
    "\n",
    "import sys\n",
    "sys.path.insert(0, \"../Code/\")\n",
    "from base import load_encoder\n",
    "from explain_cs import explain, apply\n",
    "from metrics import metrics, eval_epsilon\n",
    "from myplot import plot_groups, plot_metrics\n",
    "from train_ae import train_ae\n",
    "\n",
    "def load_model(input_dim = input_dim, model_file = \"Model/model.cpkt\"):\n",
    "    return load_encoder(input_dim, model_file, encoder_shape = [20, 2])\n"
   ]
  },
  {
   "cell_type": "code",
   "execution_count": 2,
   "metadata": {},
   "outputs": [
    {
     "data": {
      "text/plain": [
       "'\\n# Configure the data generation process and train the autoencoder\\n\\ndef gen(n = 400):\\n    \\n    x = np.zeros((n, 4))\\n    \\n    for i in range(n):\\n        \\n        if np.random.uniform() < 0.5:\\n            x[i, 0] = 1.0 + np.random.normal(loc = 0.0, scale = 0.2)\\n            \\n        if np.random.uniform() < 0.5:\\n            x[i, 1] = 1.0 + np.random.normal(loc = 0.0, scale = 0.2)\\n            \\n        x[i, 2] = np.random.normal(loc = 0.0, scale = 0.5)\\n        \\n        x[i, 3] = x[i, 0] + np.random.normal(loc = 0.0, scale = 0.05)\\n        \\n    return x\\n\\nx = gen()\\n\\nos.system(\"rm -rf Model\")\\n\\ntrain_ae(x, encoder_shape = [20, 2], decoder_shape = [2, 20])\\n'"
      ]
     },
     "execution_count": 2,
     "metadata": {},
     "output_type": "execute_result"
    }
   ],
   "source": [
    "'''\n",
    "# Configure the data generation process and train the autoencoder\n",
    "\n",
    "def gen(n = 400):\n",
    "    \n",
    "    x = np.zeros((n, 4))\n",
    "    \n",
    "    for i in range(n):\n",
    "        \n",
    "        if np.random.uniform() < 0.5:\n",
    "            x[i, 0] = 1.0 + np.random.normal(loc = 0.0, scale = 0.2)\n",
    "            \n",
    "        if np.random.uniform() < 0.5:\n",
    "            x[i, 1] = 1.0 + np.random.normal(loc = 0.0, scale = 0.2)\n",
    "            \n",
    "        x[i, 2] = np.random.normal(loc = 0.0, scale = 0.5)\n",
    "        \n",
    "        x[i, 3] = x[i, 0] + np.random.normal(loc = 0.0, scale = 0.05)\n",
    "        \n",
    "    return x\n",
    "\n",
    "x = gen()\n",
    "\n",
    "os.system(\"rm -rf Model\")\n",
    "\n",
    "train_ae(x, encoder_shape = [20, 2], decoder_shape = [2, 20])\n",
    "'''\n",
    "# Trows errors due to train_ae being in tensorflow 1.x"
   ]
  },
  {
   "cell_type": "code",
   "execution_count": 3,
   "metadata": {},
   "outputs": [
    {
     "name": "stdout",
     "output_type": "stream",
     "text": [
      "WARNING:tensorflow:From /home/roel/.pyenv/versions/3.8.0/lib/python3.8/site-packages/tensorflow/python/compat/v2_compat.py:96: disable_resource_variables (from tensorflow.python.ops.variable_scope) is deprecated and will be removed in a future version.\n",
      "Instructions for updating:\n",
      "non-resource variables are not supported in the long term\n",
      "INFO:tensorflow:Restoring parameters from Model/model.cpkt\n"
     ]
    },
    {
     "ename": "InvalidArgumentError",
     "evalue": "Restoring from checkpoint failed. This is most likely due to a mismatch between the current graph and the graph from the checkpoint. Please ensure that you have not altered the graph expected based on the checkpoint. Original error:\n\nAssign requires shapes of both tensors to match. lhs shape= [20,2] rhs shape= [100,2]\n\t [[node save/Assign_3 (defined at ../Code/base.py:53) ]]\n\nErrors may have originated from an input operation.\nInput Source operations connected to node save/Assign_3:\n encoder_model/output/weights (defined at ../Code/base.py:27)\n\nOriginal stack trace for 'save/Assign_3':\n  File \"/home/roel/.pyenv/versions/3.8.0/lib/python3.8/runpy.py\", line 192, in _run_module_as_main\n    return _run_code(code, main_globals, None,\n  File \"/home/roel/.pyenv/versions/3.8.0/lib/python3.8/runpy.py\", line 85, in _run_code\n    exec(code, run_globals)\n  File \"/home/roel/.pyenv/versions/3.8.0/lib/python3.8/site-packages/ipykernel_launcher.py\", line 16, in <module>\n    app.launch_new_instance()\n  File \"/home/roel/.pyenv/versions/3.8.0/lib/python3.8/site-packages/traitlets/config/application.py\", line 845, in launch_instance\n    app.start()\n  File \"/home/roel/.pyenv/versions/3.8.0/lib/python3.8/site-packages/ipykernel/kernelapp.py\", line 612, in start\n    self.io_loop.start()\n  File \"/home/roel/.pyenv/versions/3.8.0/lib/python3.8/site-packages/tornado/platform/asyncio.py\", line 199, in start\n    self.asyncio_loop.run_forever()\n  File \"/home/roel/.pyenv/versions/3.8.0/lib/python3.8/asyncio/base_events.py\", line 563, in run_forever\n    self._run_once()\n  File \"/home/roel/.pyenv/versions/3.8.0/lib/python3.8/asyncio/base_events.py\", line 1844, in _run_once\n    handle._run()\n  File \"/home/roel/.pyenv/versions/3.8.0/lib/python3.8/asyncio/events.py\", line 81, in _run\n    self._context.run(self._callback, *self._args)\n  File \"/home/roel/.pyenv/versions/3.8.0/lib/python3.8/site-packages/tornado/ioloop.py\", line 688, in <lambda>\n    lambda f: self._run_callback(functools.partial(callback, future))\n  File \"/home/roel/.pyenv/versions/3.8.0/lib/python3.8/site-packages/tornado/ioloop.py\", line 741, in _run_callback\n    ret = callback()\n  File \"/home/roel/.pyenv/versions/3.8.0/lib/python3.8/site-packages/tornado/gen.py\", line 814, in inner\n    self.ctx_run(self.run)\n  File \"/home/roel/.pyenv/versions/3.8.0/lib/python3.8/site-packages/tornado/gen.py\", line 775, in run\n    yielded = self.gen.send(value)\n  File \"/home/roel/.pyenv/versions/3.8.0/lib/python3.8/site-packages/ipykernel/kernelbase.py\", line 362, in process_one\n    yield gen.maybe_future(dispatch(*args))\n  File \"/home/roel/.pyenv/versions/3.8.0/lib/python3.8/site-packages/tornado/gen.py\", line 234, in wrapper\n    yielded = ctx_run(next, result)\n  File \"/home/roel/.pyenv/versions/3.8.0/lib/python3.8/site-packages/ipykernel/kernelbase.py\", line 265, in dispatch_shell\n    yield gen.maybe_future(handler(stream, idents, msg))\n  File \"/home/roel/.pyenv/versions/3.8.0/lib/python3.8/site-packages/tornado/gen.py\", line 234, in wrapper\n    yielded = ctx_run(next, result)\n  File \"/home/roel/.pyenv/versions/3.8.0/lib/python3.8/site-packages/ipykernel/kernelbase.py\", line 540, in execute_request\n    self.do_execute(\n  File \"/home/roel/.pyenv/versions/3.8.0/lib/python3.8/site-packages/tornado/gen.py\", line 234, in wrapper\n    yielded = ctx_run(next, result)\n  File \"/home/roel/.pyenv/versions/3.8.0/lib/python3.8/site-packages/ipykernel/ipkernel.py\", line 302, in do_execute\n    res = shell.run_cell(code, store_history=store_history, silent=silent)\n  File \"/home/roel/.pyenv/versions/3.8.0/lib/python3.8/site-packages/ipykernel/zmqshell.py\", line 539, in run_cell\n    return super(ZMQInteractiveShell, self).run_cell(*args, **kwargs)\n  File \"/home/roel/.pyenv/versions/3.8.0/lib/python3.8/site-packages/IPython/core/interactiveshell.py\", line 2877, in run_cell\n    result = self._run_cell(\n  File \"/home/roel/.pyenv/versions/3.8.0/lib/python3.8/site-packages/IPython/core/interactiveshell.py\", line 2923, in _run_cell\n    return runner(coro)\n  File \"/home/roel/.pyenv/versions/3.8.0/lib/python3.8/site-packages/IPython/core/async_helpers.py\", line 68, in _pseudo_sync_runner\n    coro.send(None)\n  File \"/home/roel/.pyenv/versions/3.8.0/lib/python3.8/site-packages/IPython/core/interactiveshell.py\", line 3146, in run_cell_async\n    has_raised = await self.run_ast_nodes(code_ast.body, cell_name,\n  File \"/home/roel/.pyenv/versions/3.8.0/lib/python3.8/site-packages/IPython/core/interactiveshell.py\", line 3338, in run_ast_nodes\n    if (await self.run_code(code, result,  async_=asy)):\n  File \"/home/roel/.pyenv/versions/3.8.0/lib/python3.8/site-packages/IPython/core/interactiveshell.py\", line 3418, in run_code\n    exec(code_obj, self.user_global_ns, self.user_ns)\n  File \"<ipython-input-3-ab624901ab84>\", line 3, in <module>\n    sess, rep, X, D = load_model()\n  File \"<ipython-input-1-f6c7316452a0>\", line 20, in load_model\n    return load_encoder(input_dim, model_file, encoder_shape = [20, 2])\n  File \"../Code/base.py\", line 53, in load_encoder\n    saver = tf.compat.v1.train.Saver()\n  File \"/home/roel/.pyenv/versions/3.8.0/lib/python3.8/site-packages/tensorflow/python/training/saver.py\", line 835, in __init__\n    self.build()\n  File \"/home/roel/.pyenv/versions/3.8.0/lib/python3.8/site-packages/tensorflow/python/training/saver.py\", line 847, in build\n    self._build(self._filename, build_save=True, build_restore=True)\n  File \"/home/roel/.pyenv/versions/3.8.0/lib/python3.8/site-packages/tensorflow/python/training/saver.py\", line 875, in _build\n    self.saver_def = self._builder._build_internal(  # pylint: disable=protected-access\n  File \"/home/roel/.pyenv/versions/3.8.0/lib/python3.8/site-packages/tensorflow/python/training/saver.py\", line 514, in _build_internal\n    restore_op = self._AddRestoreOps(filename_tensor, saveables,\n  File \"/home/roel/.pyenv/versions/3.8.0/lib/python3.8/site-packages/tensorflow/python/training/saver.py\", line 357, in _AddRestoreOps\n    assign_ops.append(saveable.restore(saveable_tensors, shapes))\n  File \"/home/roel/.pyenv/versions/3.8.0/lib/python3.8/site-packages/tensorflow/python/training/saving/saveable_object_util.py\", line 81, in restore\n    return state_ops.assign(\n  File \"/home/roel/.pyenv/versions/3.8.0/lib/python3.8/site-packages/tensorflow/python/ops/state_ops.py\", line 225, in assign\n    return gen_state_ops.assign(\n  File \"/home/roel/.pyenv/versions/3.8.0/lib/python3.8/site-packages/tensorflow/python/ops/gen_state_ops.py\", line 58, in assign\n    _, _, _op, _outputs = _op_def_library._apply_op_helper(\n  File \"/home/roel/.pyenv/versions/3.8.0/lib/python3.8/site-packages/tensorflow/python/framework/op_def_library.py\", line 748, in _apply_op_helper\n    op = g._create_op_internal(op_type_name, inputs, dtypes=None,\n  File \"/home/roel/.pyenv/versions/3.8.0/lib/python3.8/site-packages/tensorflow/python/framework/ops.py\", line 3528, in _create_op_internal\n    ret = Operation(\n  File \"/home/roel/.pyenv/versions/3.8.0/lib/python3.8/site-packages/tensorflow/python/framework/ops.py\", line 1990, in __init__\n    self._traceback = tf_stack.extract_stack()\n",
     "output_type": "error",
     "traceback": [
      "\u001b[0;31m---------------------------------------------------------------------------\u001b[0m",
      "\u001b[0;31mInvalidArgumentError\u001b[0m                      Traceback (most recent call last)",
      "\u001b[0;32m~/.pyenv/versions/3.8.0/lib/python3.8/site-packages/tensorflow/python/client/session.py\u001b[0m in \u001b[0;36m_do_call\u001b[0;34m(self, fn, *args)\u001b[0m\n\u001b[1;32m   1374\u001b[0m     \u001b[0;32mtry\u001b[0m\u001b[0;34m:\u001b[0m\u001b[0;34m\u001b[0m\u001b[0;34m\u001b[0m\u001b[0m\n\u001b[0;32m-> 1375\u001b[0;31m       \u001b[0;32mreturn\u001b[0m \u001b[0mfn\u001b[0m\u001b[0;34m(\u001b[0m\u001b[0;34m*\u001b[0m\u001b[0margs\u001b[0m\u001b[0;34m)\u001b[0m\u001b[0;34m\u001b[0m\u001b[0;34m\u001b[0m\u001b[0m\n\u001b[0m\u001b[1;32m   1376\u001b[0m     \u001b[0;32mexcept\u001b[0m \u001b[0merrors\u001b[0m\u001b[0;34m.\u001b[0m\u001b[0mOpError\u001b[0m \u001b[0;32mas\u001b[0m \u001b[0me\u001b[0m\u001b[0;34m:\u001b[0m\u001b[0;34m\u001b[0m\u001b[0;34m\u001b[0m\u001b[0m\n",
      "\u001b[0;32m~/.pyenv/versions/3.8.0/lib/python3.8/site-packages/tensorflow/python/client/session.py\u001b[0m in \u001b[0;36m_run_fn\u001b[0;34m(feed_dict, fetch_list, target_list, options, run_metadata)\u001b[0m\n\u001b[1;32m   1358\u001b[0m       \u001b[0mself\u001b[0m\u001b[0;34m.\u001b[0m\u001b[0m_extend_graph\u001b[0m\u001b[0;34m(\u001b[0m\u001b[0;34m)\u001b[0m\u001b[0;34m\u001b[0m\u001b[0;34m\u001b[0m\u001b[0m\n\u001b[0;32m-> 1359\u001b[0;31m       return self._call_tf_sessionrun(options, feed_dict, fetch_list,\n\u001b[0m\u001b[1;32m   1360\u001b[0m                                       target_list, run_metadata)\n",
      "\u001b[0;32m~/.pyenv/versions/3.8.0/lib/python3.8/site-packages/tensorflow/python/client/session.py\u001b[0m in \u001b[0;36m_call_tf_sessionrun\u001b[0;34m(self, options, feed_dict, fetch_list, target_list, run_metadata)\u001b[0m\n\u001b[1;32m   1450\u001b[0m                           run_metadata):\n\u001b[0;32m-> 1451\u001b[0;31m     return tf_session.TF_SessionRun_wrapper(self._session, options, feed_dict,\n\u001b[0m\u001b[1;32m   1452\u001b[0m                                             \u001b[0mfetch_list\u001b[0m\u001b[0;34m,\u001b[0m \u001b[0mtarget_list\u001b[0m\u001b[0;34m,\u001b[0m\u001b[0;34m\u001b[0m\u001b[0;34m\u001b[0m\u001b[0m\n",
      "\u001b[0;31mInvalidArgumentError\u001b[0m: Assign requires shapes of both tensors to match. lhs shape= [20,2] rhs shape= [100,2]\n\t [[{{node save/Assign_3}}]]",
      "\nDuring handling of the above exception, another exception occurred:\n",
      "\u001b[0;31mInvalidArgumentError\u001b[0m                      Traceback (most recent call last)",
      "\u001b[0;32m~/.pyenv/versions/3.8.0/lib/python3.8/site-packages/tensorflow/python/training/saver.py\u001b[0m in \u001b[0;36mrestore\u001b[0;34m(self, sess, save_path)\u001b[0m\n\u001b[1;32m   1296\u001b[0m       \u001b[0;32melse\u001b[0m\u001b[0;34m:\u001b[0m\u001b[0;34m\u001b[0m\u001b[0;34m\u001b[0m\u001b[0m\n\u001b[0;32m-> 1297\u001b[0;31m         sess.run(self.saver_def.restore_op_name,\n\u001b[0m\u001b[1;32m   1298\u001b[0m                  {self.saver_def.filename_tensor_name: save_path})\n",
      "\u001b[0;32m~/.pyenv/versions/3.8.0/lib/python3.8/site-packages/tensorflow/python/client/session.py\u001b[0m in \u001b[0;36mrun\u001b[0;34m(self, fetches, feed_dict, options, run_metadata)\u001b[0m\n\u001b[1;32m    966\u001b[0m     \u001b[0;32mtry\u001b[0m\u001b[0;34m:\u001b[0m\u001b[0;34m\u001b[0m\u001b[0;34m\u001b[0m\u001b[0m\n\u001b[0;32m--> 967\u001b[0;31m       result = self._run(None, fetches, feed_dict, options_ptr,\n\u001b[0m\u001b[1;32m    968\u001b[0m                          run_metadata_ptr)\n",
      "\u001b[0;32m~/.pyenv/versions/3.8.0/lib/python3.8/site-packages/tensorflow/python/client/session.py\u001b[0m in \u001b[0;36m_run\u001b[0;34m(self, handle, fetches, feed_dict, options, run_metadata)\u001b[0m\n\u001b[1;32m   1189\u001b[0m     \u001b[0;32mif\u001b[0m \u001b[0mfinal_fetches\u001b[0m \u001b[0;32mor\u001b[0m \u001b[0mfinal_targets\u001b[0m \u001b[0;32mor\u001b[0m \u001b[0;34m(\u001b[0m\u001b[0mhandle\u001b[0m \u001b[0;32mand\u001b[0m \u001b[0mfeed_dict_tensor\u001b[0m\u001b[0;34m)\u001b[0m\u001b[0;34m:\u001b[0m\u001b[0;34m\u001b[0m\u001b[0;34m\u001b[0m\u001b[0m\n\u001b[0;32m-> 1190\u001b[0;31m       results = self._do_run(handle, final_targets, final_fetches,\n\u001b[0m\u001b[1;32m   1191\u001b[0m                              feed_dict_tensor, options, run_metadata)\n",
      "\u001b[0;32m~/.pyenv/versions/3.8.0/lib/python3.8/site-packages/tensorflow/python/client/session.py\u001b[0m in \u001b[0;36m_do_run\u001b[0;34m(self, handle, target_list, fetch_list, feed_dict, options, run_metadata)\u001b[0m\n\u001b[1;32m   1367\u001b[0m     \u001b[0;32mif\u001b[0m \u001b[0mhandle\u001b[0m \u001b[0;32mis\u001b[0m \u001b[0;32mNone\u001b[0m\u001b[0;34m:\u001b[0m\u001b[0;34m\u001b[0m\u001b[0;34m\u001b[0m\u001b[0m\n\u001b[0;32m-> 1368\u001b[0;31m       return self._do_call(_run_fn, feeds, fetches, targets, options,\n\u001b[0m\u001b[1;32m   1369\u001b[0m                            run_metadata)\n",
      "\u001b[0;32m~/.pyenv/versions/3.8.0/lib/python3.8/site-packages/tensorflow/python/client/session.py\u001b[0m in \u001b[0;36m_do_call\u001b[0;34m(self, fn, *args)\u001b[0m\n\u001b[1;32m   1393\u001b[0m                     'disable_meta_optimizer = True')\n\u001b[0;32m-> 1394\u001b[0;31m       \u001b[0;32mraise\u001b[0m \u001b[0mtype\u001b[0m\u001b[0;34m(\u001b[0m\u001b[0me\u001b[0m\u001b[0;34m)\u001b[0m\u001b[0;34m(\u001b[0m\u001b[0mnode_def\u001b[0m\u001b[0;34m,\u001b[0m \u001b[0mop\u001b[0m\u001b[0;34m,\u001b[0m \u001b[0mmessage\u001b[0m\u001b[0;34m)\u001b[0m\u001b[0;34m\u001b[0m\u001b[0;34m\u001b[0m\u001b[0m\n\u001b[0m\u001b[1;32m   1395\u001b[0m \u001b[0;34m\u001b[0m\u001b[0m\n",
      "\u001b[0;31mInvalidArgumentError\u001b[0m: Assign requires shapes of both tensors to match. lhs shape= [20,2] rhs shape= [100,2]\n\t [[node save/Assign_3 (defined at ../Code/base.py:53) ]]\n\nErrors may have originated from an input operation.\nInput Source operations connected to node save/Assign_3:\n encoder_model/output/weights (defined at ../Code/base.py:27)\n\nOriginal stack trace for 'save/Assign_3':\n  File \"/home/roel/.pyenv/versions/3.8.0/lib/python3.8/runpy.py\", line 192, in _run_module_as_main\n    return _run_code(code, main_globals, None,\n  File \"/home/roel/.pyenv/versions/3.8.0/lib/python3.8/runpy.py\", line 85, in _run_code\n    exec(code, run_globals)\n  File \"/home/roel/.pyenv/versions/3.8.0/lib/python3.8/site-packages/ipykernel_launcher.py\", line 16, in <module>\n    app.launch_new_instance()\n  File \"/home/roel/.pyenv/versions/3.8.0/lib/python3.8/site-packages/traitlets/config/application.py\", line 845, in launch_instance\n    app.start()\n  File \"/home/roel/.pyenv/versions/3.8.0/lib/python3.8/site-packages/ipykernel/kernelapp.py\", line 612, in start\n    self.io_loop.start()\n  File \"/home/roel/.pyenv/versions/3.8.0/lib/python3.8/site-packages/tornado/platform/asyncio.py\", line 199, in start\n    self.asyncio_loop.run_forever()\n  File \"/home/roel/.pyenv/versions/3.8.0/lib/python3.8/asyncio/base_events.py\", line 563, in run_forever\n    self._run_once()\n  File \"/home/roel/.pyenv/versions/3.8.0/lib/python3.8/asyncio/base_events.py\", line 1844, in _run_once\n    handle._run()\n  File \"/home/roel/.pyenv/versions/3.8.0/lib/python3.8/asyncio/events.py\", line 81, in _run\n    self._context.run(self._callback, *self._args)\n  File \"/home/roel/.pyenv/versions/3.8.0/lib/python3.8/site-packages/tornado/ioloop.py\", line 688, in <lambda>\n    lambda f: self._run_callback(functools.partial(callback, future))\n  File \"/home/roel/.pyenv/versions/3.8.0/lib/python3.8/site-packages/tornado/ioloop.py\", line 741, in _run_callback\n    ret = callback()\n  File \"/home/roel/.pyenv/versions/3.8.0/lib/python3.8/site-packages/tornado/gen.py\", line 814, in inner\n    self.ctx_run(self.run)\n  File \"/home/roel/.pyenv/versions/3.8.0/lib/python3.8/site-packages/tornado/gen.py\", line 775, in run\n    yielded = self.gen.send(value)\n  File \"/home/roel/.pyenv/versions/3.8.0/lib/python3.8/site-packages/ipykernel/kernelbase.py\", line 362, in process_one\n    yield gen.maybe_future(dispatch(*args))\n  File \"/home/roel/.pyenv/versions/3.8.0/lib/python3.8/site-packages/tornado/gen.py\", line 234, in wrapper\n    yielded = ctx_run(next, result)\n  File \"/home/roel/.pyenv/versions/3.8.0/lib/python3.8/site-packages/ipykernel/kernelbase.py\", line 265, in dispatch_shell\n    yield gen.maybe_future(handler(stream, idents, msg))\n  File \"/home/roel/.pyenv/versions/3.8.0/lib/python3.8/site-packages/tornado/gen.py\", line 234, in wrapper\n    yielded = ctx_run(next, result)\n  File \"/home/roel/.pyenv/versions/3.8.0/lib/python3.8/site-packages/ipykernel/kernelbase.py\", line 540, in execute_request\n    self.do_execute(\n  File \"/home/roel/.pyenv/versions/3.8.0/lib/python3.8/site-packages/tornado/gen.py\", line 234, in wrapper\n    yielded = ctx_run(next, result)\n  File \"/home/roel/.pyenv/versions/3.8.0/lib/python3.8/site-packages/ipykernel/ipkernel.py\", line 302, in do_execute\n    res = shell.run_cell(code, store_history=store_history, silent=silent)\n  File \"/home/roel/.pyenv/versions/3.8.0/lib/python3.8/site-packages/ipykernel/zmqshell.py\", line 539, in run_cell\n    return super(ZMQInteractiveShell, self).run_cell(*args, **kwargs)\n  File \"/home/roel/.pyenv/versions/3.8.0/lib/python3.8/site-packages/IPython/core/interactiveshell.py\", line 2877, in run_cell\n    result = self._run_cell(\n  File \"/home/roel/.pyenv/versions/3.8.0/lib/python3.8/site-packages/IPython/core/interactiveshell.py\", line 2923, in _run_cell\n    return runner(coro)\n  File \"/home/roel/.pyenv/versions/3.8.0/lib/python3.8/site-packages/IPython/core/async_helpers.py\", line 68, in _pseudo_sync_runner\n    coro.send(None)\n  File \"/home/roel/.pyenv/versions/3.8.0/lib/python3.8/site-packages/IPython/core/interactiveshell.py\", line 3146, in run_cell_async\n    has_raised = await self.run_ast_nodes(code_ast.body, cell_name,\n  File \"/home/roel/.pyenv/versions/3.8.0/lib/python3.8/site-packages/IPython/core/interactiveshell.py\", line 3338, in run_ast_nodes\n    if (await self.run_code(code, result,  async_=asy)):\n  File \"/home/roel/.pyenv/versions/3.8.0/lib/python3.8/site-packages/IPython/core/interactiveshell.py\", line 3418, in run_code\n    exec(code_obj, self.user_global_ns, self.user_ns)\n  File \"<ipython-input-3-ab624901ab84>\", line 3, in <module>\n    sess, rep, X, D = load_model()\n  File \"<ipython-input-1-f6c7316452a0>\", line 20, in load_model\n    return load_encoder(input_dim, model_file, encoder_shape = [20, 2])\n  File \"../Code/base.py\", line 53, in load_encoder\n    saver = tf.compat.v1.train.Saver()\n  File \"/home/roel/.pyenv/versions/3.8.0/lib/python3.8/site-packages/tensorflow/python/training/saver.py\", line 835, in __init__\n    self.build()\n  File \"/home/roel/.pyenv/versions/3.8.0/lib/python3.8/site-packages/tensorflow/python/training/saver.py\", line 847, in build\n    self._build(self._filename, build_save=True, build_restore=True)\n  File \"/home/roel/.pyenv/versions/3.8.0/lib/python3.8/site-packages/tensorflow/python/training/saver.py\", line 875, in _build\n    self.saver_def = self._builder._build_internal(  # pylint: disable=protected-access\n  File \"/home/roel/.pyenv/versions/3.8.0/lib/python3.8/site-packages/tensorflow/python/training/saver.py\", line 514, in _build_internal\n    restore_op = self._AddRestoreOps(filename_tensor, saveables,\n  File \"/home/roel/.pyenv/versions/3.8.0/lib/python3.8/site-packages/tensorflow/python/training/saver.py\", line 357, in _AddRestoreOps\n    assign_ops.append(saveable.restore(saveable_tensors, shapes))\n  File \"/home/roel/.pyenv/versions/3.8.0/lib/python3.8/site-packages/tensorflow/python/training/saving/saveable_object_util.py\", line 81, in restore\n    return state_ops.assign(\n  File \"/home/roel/.pyenv/versions/3.8.0/lib/python3.8/site-packages/tensorflow/python/ops/state_ops.py\", line 225, in assign\n    return gen_state_ops.assign(\n  File \"/home/roel/.pyenv/versions/3.8.0/lib/python3.8/site-packages/tensorflow/python/ops/gen_state_ops.py\", line 58, in assign\n    _, _, _op, _outputs = _op_def_library._apply_op_helper(\n  File \"/home/roel/.pyenv/versions/3.8.0/lib/python3.8/site-packages/tensorflow/python/framework/op_def_library.py\", line 748, in _apply_op_helper\n    op = g._create_op_internal(op_type_name, inputs, dtypes=None,\n  File \"/home/roel/.pyenv/versions/3.8.0/lib/python3.8/site-packages/tensorflow/python/framework/ops.py\", line 3528, in _create_op_internal\n    ret = Operation(\n  File \"/home/roel/.pyenv/versions/3.8.0/lib/python3.8/site-packages/tensorflow/python/framework/ops.py\", line 1990, in __init__\n    self._traceback = tf_stack.extract_stack()\n",
      "\nDuring handling of the above exception, another exception occurred:\n",
      "\u001b[0;31mInvalidArgumentError\u001b[0m                      Traceback (most recent call last)",
      "\u001b[0;32m<ipython-input-3-ab624901ab84>\u001b[0m in \u001b[0;36m<module>\u001b[0;34m\u001b[0m\n\u001b[1;32m      1\u001b[0m \u001b[0;31m# Calculate Data Representation\u001b[0m\u001b[0;34m\u001b[0m\u001b[0;34m\u001b[0m\u001b[0;34m\u001b[0m\u001b[0m\n\u001b[1;32m      2\u001b[0m \u001b[0;34m\u001b[0m\u001b[0m\n\u001b[0;32m----> 3\u001b[0;31m \u001b[0msess\u001b[0m\u001b[0;34m,\u001b[0m \u001b[0mrep\u001b[0m\u001b[0;34m,\u001b[0m \u001b[0mX\u001b[0m\u001b[0;34m,\u001b[0m \u001b[0mD\u001b[0m \u001b[0;34m=\u001b[0m \u001b[0mload_model\u001b[0m\u001b[0;34m(\u001b[0m\u001b[0;34m)\u001b[0m\u001b[0;34m\u001b[0m\u001b[0;34m\u001b[0m\u001b[0m\n\u001b[0m\u001b[1;32m      4\u001b[0m \u001b[0;34m\u001b[0m\u001b[0m\n\u001b[1;32m      5\u001b[0m \u001b[0mdata_rep\u001b[0m \u001b[0;34m=\u001b[0m \u001b[0msess\u001b[0m\u001b[0;34m.\u001b[0m\u001b[0mrun\u001b[0m\u001b[0;34m(\u001b[0m\u001b[0mrep\u001b[0m\u001b[0;34m,\u001b[0m \u001b[0mfeed_dict\u001b[0m\u001b[0;34m=\u001b[0m\u001b[0;34m{\u001b[0m\u001b[0mX\u001b[0m\u001b[0;34m:\u001b[0m \u001b[0mx\u001b[0m\u001b[0;34m,\u001b[0m \u001b[0mD\u001b[0m\u001b[0;34m:\u001b[0m \u001b[0mnp\u001b[0m\u001b[0;34m.\u001b[0m\u001b[0mzeros\u001b[0m\u001b[0;34m(\u001b[0m\u001b[0;34m(\u001b[0m\u001b[0;36m1\u001b[0m\u001b[0;34m,\u001b[0m \u001b[0minput_dim\u001b[0m\u001b[0;34m)\u001b[0m\u001b[0;34m)\u001b[0m\u001b[0;34m}\u001b[0m\u001b[0;34m)\u001b[0m\u001b[0;34m\u001b[0m\u001b[0;34m\u001b[0m\u001b[0m\n",
      "\u001b[0;32m<ipython-input-1-f6c7316452a0>\u001b[0m in \u001b[0;36mload_model\u001b[0;34m(input_dim, model_file)\u001b[0m\n\u001b[1;32m     18\u001b[0m \u001b[0;34m\u001b[0m\u001b[0m\n\u001b[1;32m     19\u001b[0m \u001b[0;32mdef\u001b[0m \u001b[0mload_model\u001b[0m\u001b[0;34m(\u001b[0m\u001b[0minput_dim\u001b[0m \u001b[0;34m=\u001b[0m \u001b[0minput_dim\u001b[0m\u001b[0;34m,\u001b[0m \u001b[0mmodel_file\u001b[0m \u001b[0;34m=\u001b[0m \u001b[0;34m\"Model/model.cpkt\"\u001b[0m\u001b[0;34m)\u001b[0m\u001b[0;34m:\u001b[0m\u001b[0;34m\u001b[0m\u001b[0;34m\u001b[0m\u001b[0m\n\u001b[0;32m---> 20\u001b[0;31m     \u001b[0;32mreturn\u001b[0m \u001b[0mload_encoder\u001b[0m\u001b[0;34m(\u001b[0m\u001b[0minput_dim\u001b[0m\u001b[0;34m,\u001b[0m \u001b[0mmodel_file\u001b[0m\u001b[0;34m,\u001b[0m \u001b[0mencoder_shape\u001b[0m \u001b[0;34m=\u001b[0m \u001b[0;34m[\u001b[0m\u001b[0;36m20\u001b[0m\u001b[0;34m,\u001b[0m \u001b[0;36m2\u001b[0m\u001b[0;34m]\u001b[0m\u001b[0;34m)\u001b[0m\u001b[0;34m\u001b[0m\u001b[0;34m\u001b[0m\u001b[0m\n\u001b[0m",
      "\u001b[0;32m~/Documents/Studie/Master/Jaar 1/FACT-AI/Tf_2.x code/Code/base.py\u001b[0m in \u001b[0;36mload_encoder\u001b[0;34m(input_dim, model_file, encoder_shape)\u001b[0m\n\u001b[1;32m     52\u001b[0m     \u001b[0msess\u001b[0m \u001b[0;34m=\u001b[0m \u001b[0mtf\u001b[0m\u001b[0;34m.\u001b[0m\u001b[0mcompat\u001b[0m\u001b[0;34m.\u001b[0m\u001b[0mv1\u001b[0m\u001b[0;34m.\u001b[0m\u001b[0mSession\u001b[0m\u001b[0;34m(\u001b[0m\u001b[0;34m)\u001b[0m\u001b[0;34m\u001b[0m\u001b[0;34m\u001b[0m\u001b[0m\n\u001b[1;32m     53\u001b[0m     \u001b[0msaver\u001b[0m \u001b[0;34m=\u001b[0m \u001b[0mtf\u001b[0m\u001b[0;34m.\u001b[0m\u001b[0mcompat\u001b[0m\u001b[0;34m.\u001b[0m\u001b[0mv1\u001b[0m\u001b[0;34m.\u001b[0m\u001b[0mtrain\u001b[0m\u001b[0;34m.\u001b[0m\u001b[0mSaver\u001b[0m\u001b[0;34m(\u001b[0m\u001b[0;34m)\u001b[0m\u001b[0;34m\u001b[0m\u001b[0;34m\u001b[0m\u001b[0m\n\u001b[0;32m---> 54\u001b[0;31m     \u001b[0msaver\u001b[0m\u001b[0;34m.\u001b[0m\u001b[0mrestore\u001b[0m\u001b[0;34m(\u001b[0m\u001b[0msess\u001b[0m\u001b[0;34m,\u001b[0m \u001b[0mmodel_file\u001b[0m\u001b[0;34m)\u001b[0m\u001b[0;34m\u001b[0m\u001b[0;34m\u001b[0m\u001b[0m\n\u001b[0m\u001b[1;32m     55\u001b[0m \u001b[0;34m\u001b[0m\u001b[0m\n\u001b[1;32m     56\u001b[0m     \u001b[0;32mreturn\u001b[0m \u001b[0msess\u001b[0m\u001b[0;34m,\u001b[0m \u001b[0mrep\u001b[0m\u001b[0;34m,\u001b[0m \u001b[0mX\u001b[0m\u001b[0;34m,\u001b[0m \u001b[0mD\u001b[0m\u001b[0;34m\u001b[0m\u001b[0;34m\u001b[0m\u001b[0m\n",
      "\u001b[0;32m~/.pyenv/versions/3.8.0/lib/python3.8/site-packages/tensorflow/python/training/saver.py\u001b[0m in \u001b[0;36mrestore\u001b[0;34m(self, sess, save_path)\u001b[0m\n\u001b[1;32m   1331\u001b[0m       \u001b[0;31m# There is a mismatch between the graph and the checkpoint being loaded.\u001b[0m\u001b[0;34m\u001b[0m\u001b[0;34m\u001b[0m\u001b[0;34m\u001b[0m\u001b[0m\n\u001b[1;32m   1332\u001b[0m       \u001b[0;31m# We add a more reasonable error message here to help users (b/110263146)\u001b[0m\u001b[0;34m\u001b[0m\u001b[0;34m\u001b[0m\u001b[0;34m\u001b[0m\u001b[0m\n\u001b[0;32m-> 1333\u001b[0;31m       raise _wrap_restore_error_with_msg(\n\u001b[0m\u001b[1;32m   1334\u001b[0m           err, \"a mismatch between the current graph and the graph\")\n\u001b[1;32m   1335\u001b[0m \u001b[0;34m\u001b[0m\u001b[0m\n",
      "\u001b[0;31mInvalidArgumentError\u001b[0m: Restoring from checkpoint failed. This is most likely due to a mismatch between the current graph and the graph from the checkpoint. Please ensure that you have not altered the graph expected based on the checkpoint. Original error:\n\nAssign requires shapes of both tensors to match. lhs shape= [20,2] rhs shape= [100,2]\n\t [[node save/Assign_3 (defined at ../Code/base.py:53) ]]\n\nErrors may have originated from an input operation.\nInput Source operations connected to node save/Assign_3:\n encoder_model/output/weights (defined at ../Code/base.py:27)\n\nOriginal stack trace for 'save/Assign_3':\n  File \"/home/roel/.pyenv/versions/3.8.0/lib/python3.8/runpy.py\", line 192, in _run_module_as_main\n    return _run_code(code, main_globals, None,\n  File \"/home/roel/.pyenv/versions/3.8.0/lib/python3.8/runpy.py\", line 85, in _run_code\n    exec(code, run_globals)\n  File \"/home/roel/.pyenv/versions/3.8.0/lib/python3.8/site-packages/ipykernel_launcher.py\", line 16, in <module>\n    app.launch_new_instance()\n  File \"/home/roel/.pyenv/versions/3.8.0/lib/python3.8/site-packages/traitlets/config/application.py\", line 845, in launch_instance\n    app.start()\n  File \"/home/roel/.pyenv/versions/3.8.0/lib/python3.8/site-packages/ipykernel/kernelapp.py\", line 612, in start\n    self.io_loop.start()\n  File \"/home/roel/.pyenv/versions/3.8.0/lib/python3.8/site-packages/tornado/platform/asyncio.py\", line 199, in start\n    self.asyncio_loop.run_forever()\n  File \"/home/roel/.pyenv/versions/3.8.0/lib/python3.8/asyncio/base_events.py\", line 563, in run_forever\n    self._run_once()\n  File \"/home/roel/.pyenv/versions/3.8.0/lib/python3.8/asyncio/base_events.py\", line 1844, in _run_once\n    handle._run()\n  File \"/home/roel/.pyenv/versions/3.8.0/lib/python3.8/asyncio/events.py\", line 81, in _run\n    self._context.run(self._callback, *self._args)\n  File \"/home/roel/.pyenv/versions/3.8.0/lib/python3.8/site-packages/tornado/ioloop.py\", line 688, in <lambda>\n    lambda f: self._run_callback(functools.partial(callback, future))\n  File \"/home/roel/.pyenv/versions/3.8.0/lib/python3.8/site-packages/tornado/ioloop.py\", line 741, in _run_callback\n    ret = callback()\n  File \"/home/roel/.pyenv/versions/3.8.0/lib/python3.8/site-packages/tornado/gen.py\", line 814, in inner\n    self.ctx_run(self.run)\n  File \"/home/roel/.pyenv/versions/3.8.0/lib/python3.8/site-packages/tornado/gen.py\", line 775, in run\n    yielded = self.gen.send(value)\n  File \"/home/roel/.pyenv/versions/3.8.0/lib/python3.8/site-packages/ipykernel/kernelbase.py\", line 362, in process_one\n    yield gen.maybe_future(dispatch(*args))\n  File \"/home/roel/.pyenv/versions/3.8.0/lib/python3.8/site-packages/tornado/gen.py\", line 234, in wrapper\n    yielded = ctx_run(next, result)\n  File \"/home/roel/.pyenv/versions/3.8.0/lib/python3.8/site-packages/ipykernel/kernelbase.py\", line 265, in dispatch_shell\n    yield gen.maybe_future(handler(stream, idents, msg))\n  File \"/home/roel/.pyenv/versions/3.8.0/lib/python3.8/site-packages/tornado/gen.py\", line 234, in wrapper\n    yielded = ctx_run(next, result)\n  File \"/home/roel/.pyenv/versions/3.8.0/lib/python3.8/site-packages/ipykernel/kernelbase.py\", line 540, in execute_request\n    self.do_execute(\n  File \"/home/roel/.pyenv/versions/3.8.0/lib/python3.8/site-packages/tornado/gen.py\", line 234, in wrapper\n    yielded = ctx_run(next, result)\n  File \"/home/roel/.pyenv/versions/3.8.0/lib/python3.8/site-packages/ipykernel/ipkernel.py\", line 302, in do_execute\n    res = shell.run_cell(code, store_history=store_history, silent=silent)\n  File \"/home/roel/.pyenv/versions/3.8.0/lib/python3.8/site-packages/ipykernel/zmqshell.py\", line 539, in run_cell\n    return super(ZMQInteractiveShell, self).run_cell(*args, **kwargs)\n  File \"/home/roel/.pyenv/versions/3.8.0/lib/python3.8/site-packages/IPython/core/interactiveshell.py\", line 2877, in run_cell\n    result = self._run_cell(\n  File \"/home/roel/.pyenv/versions/3.8.0/lib/python3.8/site-packages/IPython/core/interactiveshell.py\", line 2923, in _run_cell\n    return runner(coro)\n  File \"/home/roel/.pyenv/versions/3.8.0/lib/python3.8/site-packages/IPython/core/async_helpers.py\", line 68, in _pseudo_sync_runner\n    coro.send(None)\n  File \"/home/roel/.pyenv/versions/3.8.0/lib/python3.8/site-packages/IPython/core/interactiveshell.py\", line 3146, in run_cell_async\n    has_raised = await self.run_ast_nodes(code_ast.body, cell_name,\n  File \"/home/roel/.pyenv/versions/3.8.0/lib/python3.8/site-packages/IPython/core/interactiveshell.py\", line 3338, in run_ast_nodes\n    if (await self.run_code(code, result,  async_=asy)):\n  File \"/home/roel/.pyenv/versions/3.8.0/lib/python3.8/site-packages/IPython/core/interactiveshell.py\", line 3418, in run_code\n    exec(code_obj, self.user_global_ns, self.user_ns)\n  File \"<ipython-input-3-ab624901ab84>\", line 3, in <module>\n    sess, rep, X, D = load_model()\n  File \"<ipython-input-1-f6c7316452a0>\", line 20, in load_model\n    return load_encoder(input_dim, model_file, encoder_shape = [20, 2])\n  File \"../Code/base.py\", line 53, in load_encoder\n    saver = tf.compat.v1.train.Saver()\n  File \"/home/roel/.pyenv/versions/3.8.0/lib/python3.8/site-packages/tensorflow/python/training/saver.py\", line 835, in __init__\n    self.build()\n  File \"/home/roel/.pyenv/versions/3.8.0/lib/python3.8/site-packages/tensorflow/python/training/saver.py\", line 847, in build\n    self._build(self._filename, build_save=True, build_restore=True)\n  File \"/home/roel/.pyenv/versions/3.8.0/lib/python3.8/site-packages/tensorflow/python/training/saver.py\", line 875, in _build\n    self.saver_def = self._builder._build_internal(  # pylint: disable=protected-access\n  File \"/home/roel/.pyenv/versions/3.8.0/lib/python3.8/site-packages/tensorflow/python/training/saver.py\", line 514, in _build_internal\n    restore_op = self._AddRestoreOps(filename_tensor, saveables,\n  File \"/home/roel/.pyenv/versions/3.8.0/lib/python3.8/site-packages/tensorflow/python/training/saver.py\", line 357, in _AddRestoreOps\n    assign_ops.append(saveable.restore(saveable_tensors, shapes))\n  File \"/home/roel/.pyenv/versions/3.8.0/lib/python3.8/site-packages/tensorflow/python/training/saving/saveable_object_util.py\", line 81, in restore\n    return state_ops.assign(\n  File \"/home/roel/.pyenv/versions/3.8.0/lib/python3.8/site-packages/tensorflow/python/ops/state_ops.py\", line 225, in assign\n    return gen_state_ops.assign(\n  File \"/home/roel/.pyenv/versions/3.8.0/lib/python3.8/site-packages/tensorflow/python/ops/gen_state_ops.py\", line 58, in assign\n    _, _, _op, _outputs = _op_def_library._apply_op_helper(\n  File \"/home/roel/.pyenv/versions/3.8.0/lib/python3.8/site-packages/tensorflow/python/framework/op_def_library.py\", line 748, in _apply_op_helper\n    op = g._create_op_internal(op_type_name, inputs, dtypes=None,\n  File \"/home/roel/.pyenv/versions/3.8.0/lib/python3.8/site-packages/tensorflow/python/framework/ops.py\", line 3528, in _create_op_internal\n    ret = Operation(\n  File \"/home/roel/.pyenv/versions/3.8.0/lib/python3.8/site-packages/tensorflow/python/framework/ops.py\", line 1990, in __init__\n    self._traceback = tf_stack.extract_stack()\n"
     ]
    }
   ],
   "source": [
    "# Calculate Data Representation\n",
    "\n",
    "sess, rep, X, D = load_model()\n",
    "\n",
    "data_rep = sess.run(rep, feed_dict={X: x, D: np.zeros((1, input_dim))})\n"
   ]
  },
  {
   "cell_type": "code",
   "execution_count": null,
   "metadata": {},
   "outputs": [],
   "source": [
    "# Cluster Points to define the groups\n",
    "\n",
    "kmeans = KMeans(n_clusters = num_clusters).fit(data_rep)\n"
   ]
  },
  {
   "cell_type": "code",
   "execution_count": null,
   "metadata": {},
   "outputs": [],
   "source": [
    "# Visualize the clusters in the learned representation\n",
    "\n",
    "means, centers, indices = plot_groups(x, data_rep, num_clusters, kmeans.labels_, name = \"synth-rep.png\")\n",
    " "
   ]
  },
  {
   "cell_type": "code",
   "execution_count": null,
   "metadata": {},
   "outputs": [],
   "source": [
    "# Set epsilon for our metrics\n",
    "epsilon = 0.5\n",
    "\n",
    "if True:\n",
    "    eval_epsilon(load_model, x, indices, epsilon)\n"
   ]
  },
  {
   "cell_type": "code",
   "execution_count": null,
   "metadata": {},
   "outputs": [],
   "source": [
    "# Compute the group explanations\n",
    "\n",
    "best_val = 0.0\n",
    "for i in range(ntrials):\n",
    "    deltas = explain(load_model, means, centers, learning_rate = 0.01, consecutive_steps = 5, lambda_global = lg)\n",
    "    a, b = metrics(load_model, x, indices, deltas, epsilon)\n",
    "    \n",
    "    val = np.mean(a)\n",
    "    \n",
    "    if val > best_val:\n",
    "        best_val = val\n",
    "        np.save(\"deltas.npy\", deltas)\n",
    "    \n",
    "    os.system(\"rm -rf explanation\")\n"
   ]
  },
  {
   "cell_type": "code",
   "execution_count": null,
   "metadata": {},
   "outputs": [],
   "source": [
    "# Evaluate the explanations\n",
    "\n",
    "deltas = np.load(\"deltas.npy\")\n",
    "\n",
    "a, b = metrics(load_model, x, indices, deltas, epsilon)\n",
    "\n",
    "plot_metrics(a, b, name = \"synth-metrics-ours.png\")"
   ]
  },
  {
   "cell_type": "code",
   "execution_count": null,
   "metadata": {
    "scrolled": false
   },
   "outputs": [],
   "source": [
    "# Visualize the mean difference\n",
    "\n",
    "exp_mean = np.zeros((num_clusters - 1, input_dim))\n",
    "for i in range(num_clusters - 1):\n",
    "    exp_mean[i, :] = means[i + 1] - means[0]\n",
    "    \n",
    "a, b = metrics(load_model, x, indices, exp_mean, epsilon)\n",
    "\n",
    "plot_metrics(a, b, name = \"synth-metrics-means.png\")\n"
   ]
  },
  {
   "cell_type": "code",
   "execution_count": null,
   "metadata": {},
   "outputs": [],
   "source": [
    "# Configure the explanations for easy tabularization\n",
    "\n",
    "exps_out = []\n",
    "for i in range(num_clusters - 1):\n",
    "    exps_out.append(deltas[i])\n",
    "    exps_out.append(exp_mean[i])\n",
    "exps_out = np.array(exps_out)   \n",
    "np.savetxt(\"exps_out.csv\", exps_out, delimiter=\",\", fmt = '%10.3f')\n"
   ]
  },
  {
   "cell_type": "code",
   "execution_count": null,
   "metadata": {},
   "outputs": [],
   "source": []
  }
 ],
 "metadata": {
  "kernelspec": {
   "display_name": "Python 3",
   "language": "python",
   "name": "python3"
  },
  "language_info": {
   "codemirror_mode": {
    "name": "ipython",
    "version": 3
   },
   "file_extension": ".py",
   "mimetype": "text/x-python",
   "name": "python",
   "nbconvert_exporter": "python",
   "pygments_lexer": "ipython3",
   "version": "3.8.0"
  }
 },
 "nbformat": 4,
 "nbformat_minor": 2
}
