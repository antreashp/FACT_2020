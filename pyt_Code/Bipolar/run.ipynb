{
 "cells": [
  {
   "cell_type": "code",
   "execution_count": 1,
   "metadata": {
    "scrolled": true
   },
   "outputs": [],
   "source": [
    "# Chosen using results from Bipolar-K\n",
    "epsilon = 0.75\n",
    "k = 250\n",
    "\n",
    "input_dim = 13166\n",
    "num_clusters = 18\n",
    "\n",
    "model_file = \"Model/model/perplexity_10_regularizer_0.001_batch_size_512_learning_rate_0.01_latent_dimension_2_activation_ELU_seed_1_iter_5400.ckpt\"\n",
    "pc_matrix_file = \"Data/bipolar_pc.tsv\"\n",
    "\n",
    "import csv\n",
    "import json\n",
    "import matplotlib\n",
    "import numpy as np\n",
    "import os\n",
    "import pandas as pd\n",
    "\n",
    "os.system(\"rm *.png\")\n",
    "\n",
    "from load_vae import load_vae\n",
    "\n",
    "import sys\n",
    "sys.path.insert(0, \"../Code/\")\n",
    "from explain_cs import explain\n",
    "from metrics import metrics, eval_epsilon\n",
    "from myplot import plot_polys, plot_groups, plot_metrics, plot_explanation\n",
    "from misc import poly2labels\n",
    "from train_ae import train_ae\n",
    "matplotlib.rc(\"lines\", markersize = 4)# Override some default plot parameters\n",
    "\n",
    "sys.path.insert(0, \"../Bipolar/\")\n",
    "from load_MLP import load_model\n"
   ]
  },
  {
   "cell_type": "code",
   "execution_count": 2,
   "metadata": {
    "scrolled": true
   },
   "outputs": [],
   "source": [
    "# Load Data & Configuration\n",
    "\n",
    "x = pd.read_csv(\"Data/bipolar_rep_scaled.tsv\", sep=\"\\t\").values\n",
    "\n",
    "with open(\"vertices.json\") as json_file:  \n",
    "    all_vertices = json.load(json_file)\n"
   ]
  },
  {
   "cell_type": "code",
   "execution_count": 3,
   "metadata": {
    "scrolled": true
   },
   "outputs": [],
   "source": [
    "# Approximate the original data\n",
    "\n",
    "matrix = pd.read_csv(pc_matrix_file, sep = \"\\t\", header = None).values\n",
    "\n",
    "x_full = np.matmul(x, np.transpose(matrix))"
   ]
  },
  {
   "cell_type": "code",
   "execution_count": null,
   "metadata": {},
   "outputs": [
    {
     "name": "stdout",
     "output_type": "stream",
     "text": [
      "WARNING:tensorflow:From /home/roel/Documents/Studie/Master/Jaar 1/FACT-AI/ELDR-master/eldr-env/lib/python3.8/site-packages/tensorflow/python/compat/v2_compat.py:96: disable_resource_variables (from tensorflow.python.ops.variable_scope) is deprecated and will be removed in a future version.\n",
      "Instructions for updating:\n",
      "non-resource variables are not supported in the long term\n",
      "WARNING:tensorflow:From /home/roel/Documents/Studie/Master/Jaar 1/FACT-AI/ELDR-master/eldr-env/lib/python3.8/site-packages/tensorflow/python/util/dispatch.py:201: calling dropout (from tensorflow.python.ops.nn_ops) with keep_prob is deprecated and will be removed in a future version.\n",
      "Instructions for updating:\n",
      "Please use `rate` instead of `keep_prob`. Rate should be set to `rate = 1 - keep_prob`.\n",
      "INFO:tensorflow:Restoring parameters from Model/model/perplexity_10_regularizer_0.001_batch_size_512_learning_rate_0.01_latent_dimension_2_activation_ELU_seed_1_iter_5400.ckpt\n"
     ]
    }
   ],
   "source": [
    "# Calculate Data Representation\n",
    "# train_ae(x_full,\n",
    "#           encoder_shape = [100, 100, 100, 2], decoder_shape = [2, 100, 100, 100],\n",
    "#           learning_rate = 0.001, batch_size = 4, min_epochs = 100, stopping_epochs =50 , tol = 0.001, freq_eval = 1,\n",
    "#           device=None)\n",
    "model = load_model('Model/model_encoder.pt')\n",
    "\n",
    "x_full = torch.from_numpy(x_full).float()\n",
    "data_rep = model(x_full)\n",
    "\n",
    "x_full = x_full.detach().numpy()\n",
    "data_rep = data_rep.detach().numpy().squeeze()"
   ]
  },
  {
   "cell_type": "code",
   "execution_count": null,
   "metadata": {
    "scrolled": false
   },
   "outputs": [],
   "source": [
    "# Visualize the data and the marked clusters\n",
    "plot_polys(data_rep, all_vertices)"
   ]
  },
  {
   "cell_type": "code",
   "execution_count": null,
   "metadata": {
    "scrolled": false
   },
   "outputs": [],
   "source": [
    "# Visualize the clusters in the learned representation\n",
    "\n",
    "labels = poly2labels(data_rep, all_vertices)\n",
    "\n",
    "means, centers, indices = plot_groups(x_full, data_rep, num_clusters, labels, name = \"bipolar-rep.png\")\n"
   ]
  },
  {
   "cell_type": "code",
   "execution_count": null,
   "metadata": {
    "scrolled": false
   },
   "outputs": [],
   "source": [
    "# Evaluate our explanations\n",
    "\n",
    "deltas = np.load(\"../Bipolar-K/deltas\" + str(k) + \".npy\")\n",
    "\n",
    "a, b = metrics(load_model, x_full, indices, deltas, epsilon, k = k)\n",
    "\n",
    "plot_metrics(a, b, \"bipolar-metrics.png\")\n",
    "\n",
    "plot_explanation(load_model, x_full, data_rep, indices, deltas, a, b, 4, 5, k = k, name = \"bipolar-close.png\", num_points = 200)\n",
    "\n",
    "plot_explanation(load_model, x_full, data_rep, indices, deltas, a, b, 3, 17, k = k, name = \"bipolar-far.png\", num_points = 200)\n",
    "\n",
    "plot_explanation(load_model, x_full, data_rep, indices, deltas, a, b, 1, 9, k = k, name = \"bipolar-hard.png\", num_points = 200)\n"
   ]
  },
  {
   "cell_type": "code",
   "execution_count": null,
   "metadata": {
    "scrolled": false
   },
   "outputs": [],
   "source": [
    "# Evaluate Truncated DBM \n",
    "\n",
    "exp_mean = np.zeros((num_clusters - 1, input_dim))\n",
    "for i in range(num_clusters - 1):\n",
    "    exp_mean[i, :] = means[i + 1] - means[0]\n",
    "    \n",
    "a, b = metrics(load_model, x_full, indices, exp_mean, epsilon, k = k)\n",
    "\n",
    "plot_metrics(a, b, name = \"bipolar-metrics-means.png\")\n",
    "\n",
    "plot_explanation(load_model, x_full, data_rep, indices, exp_mean, a, b, 3, 17, k = k, name = \"bipolar-far-means-k.png\", num_points = 200)\n",
    "\n"
   ]
  },
  {
   "cell_type": "code",
   "execution_count": null,
   "metadata": {},
   "outputs": [],
   "source": [
    "# Evaluate DBM\n",
    "a, b = metrics(load_model, x_full, indices, exp_mean, epsilon)\n",
    "\n",
    "plot_explanation(load_model, x_full, data_rep, indices, exp_mean, a, b, 3, 17, name = \"bipolar-far-means.png\", num_points = 200)\n"
   ]
  },
  {
   "cell_type": "code",
   "execution_count": null,
   "metadata": {},
   "outputs": [],
   "source": []
  }
 ],
 "metadata": {
  "kernelspec": {
   "display_name": "Python 3",
   "language": "python",
   "name": "python3"
  },
  "language_info": {
   "codemirror_mode": {
    "name": "ipython",
    "version": 3
   },
   "file_extension": ".py",
   "mimetype": "text/x-python",
   "name": "python",
   "nbconvert_exporter": "python",
   "pygments_lexer": "ipython3",
   "version": "3.8.5"
  }
 },
 "nbformat": 4,
 "nbformat_minor": 2
}